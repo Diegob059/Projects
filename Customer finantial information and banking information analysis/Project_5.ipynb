{
 "cells": [
  {
   "cell_type": "markdown",
   "id": "05c7df2f",
   "metadata": {},
   "source": [
    "Project 5: Customer financial health analysis and banking information.\n",
    "Part 1: data treatment and creation fo synthetic data.\n",
    "\n",
    "For this project, the dataset used is the Bank Marketing Dataset from UCI. The dataset is complemented by adding synthetic data columns with transaction information, as well as a customer ID, transaction ID, transaction number, transaction value, transaction date, and name columns.\n",
    "\n",
    "The dataset is found in the following link: https://archive.ics.uci.edu/dataset/222/bank+marketing\n",
    "\n",
    "The following script is used for the generation of the synthetic data."
   ]
  },
  {
   "cell_type": "code",
   "execution_count": null,
   "id": "da2ef7e9",
   "metadata": {},
   "outputs": [],
   "source": [
    "import pandas as pd\n",
    "import faker\n",
    "import numpy as np\n",
    "import seaborn as sns\n",
    "import matplotlib.pyplot as plt\n",
    "# Export the file path to the CSV file\n",
    "bank_raw = pd.read_csv(r\"C:\\Users\\diego\\OneDrive\\Documentos\\Python\\Customer_bank_info.csv\")\n",
    "\n",
    "# Dropping of unnecesarry columns. The df is copied to avoid modifying the original data in case \n",
    " # of error\n",
    "bank_processed = bank_raw.copy()\n",
    "unnecesary_columns = ['contact','duration', 'campaign', 'pdays', 'previous', 'poutcome','y','day','month']\n",
    "bank_processed = bank_processed.drop(columns = unnecesary_columns, axis=1) \n",
    "\n",
    "# Creation of customer ID column. This is assuming the dataset doesn't contain duplicate values and each row is unique.\n",
    "bank_processed['customer_id'] = range(1, len(bank_processed) + 1)\n",
    "\n",
    "# Creation of a name column using the faker library\n",
    "from faker import Faker\n",
    "num_rows = len(bank_processed)\n",
    "bank_processed['name'] = [Faker().name() for _ in range(num_rows)]\n",
    "\n",
    "# Creation of a transaction number column using poisson distribution and a max transaction number of 30\n",
    "# This is assuming that the balance is a reasonable value to determine the number of transactions, and that the balance is positive.\n",
    "# Using this method, the number of transactions will be higher for larger balances, simulating a realistic banking scenario.\n",
    "\n",
    "bank_processed['transaction_number_last_month'] = np.random.poisson(lam = bank_processed['balance'].abs() / 1000, size=num_rows).clip(0, 30)\n",
    "\n",
    "# Creation of a transaction ID column using the faker library and simulating multiple transactions per customer.\n",
    "# A uniform distribution is used to generate transaction values between -2000 and 2000, simulating deposits and withdrawals.\n",
    "\n",
    "# The first step is the creation of a separate df for transactions.\n",
    "# The first loop iterates over each row of the bank_processed df, and the second loop creates multiple transactions per customer based on the transaction_number_last_month column.\n",
    "# _ is used as a placeholder for the index, as it is not needed in this case.\n",
    "transaction_id_counter = 10\n",
    "transactions = []\n",
    "for _, row in bank_processed.iterrows():\n",
    "    for _ in range(row['transaction_number_last_month']):\n",
    "        transactions.append({'customer_id': row['customer_id'],\n",
    "                             'transaction_id':transaction_id_counter,\n",
    "                             'transaction_value': np.random.uniform(-2000, 2000),\n",
    "                             'transaction_date': Faker().date_between(start_date='-30d', end_date='today').strftime('%Y-%m-%d')})\n",
    "        transaction_id_counter += 1\n",
    "\n",
    "transactions_df = pd.DataFrame(transactions)\n",
    "\n",
    "# Joining the transactions df with the bank_processed df using the customer_id column.\n",
    "bank_final = pd.merge(bank_processed, transactions_df, on='customer_id', how='left')\n",
    "\n",
    "# Export the final df to a csv file\n",
    "bank_final.to_csv(r\"C:\\Users\\diego\\OneDrive\\Documentos\\Python\\Customer_bank_info_final.csv\", index=False)\n"
   ]
  }
 ],
 "metadata": {
  "kernelspec": {
   "display_name": "Python 3",
   "language": "python",
   "name": "python3"
  },
  "language_info": {
   "codemirror_mode": {
    "name": "ipython",
    "version": 3
   },
   "file_extension": ".py",
   "mimetype": "text/x-python",
   "name": "python",
   "nbconvert_exporter": "python",
   "pygments_lexer": "ipython3",
   "version": "3.11.9"
  }
 },
 "nbformat": 4,
 "nbformat_minor": 5
}
